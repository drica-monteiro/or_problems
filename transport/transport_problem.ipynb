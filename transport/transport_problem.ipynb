{
 "cells": [
  {
   "cell_type": "code",
   "execution_count": 42,
   "id": "ace2a57f",
   "metadata": {},
   "outputs": [],
   "source": [
    "import requests\n",
    "import pandas as pd\n",
    "import numpy as np\n",
    "import os\n",
    "import seaborn as sns\n",
    "import matplotlib.pyplot as plt\n",
    "from pulp import *\n",
    "from functions import *\n",
    "import folium"
   ]
  },
  {
   "cell_type": "code",
   "execution_count": 2,
   "id": "cad26c5e",
   "metadata": {},
   "outputs": [],
   "source": [
    "###checking distance function"
   ]
  },
  {
   "cell_type": "code",
   "execution_count": 3,
   "id": "cabe41ed",
   "metadata": {},
   "outputs": [
    {
     "name": "stdout",
     "output_type": "stream",
     "text": [
      "Driving distance: 433.62 km\n"
     ]
    }
   ],
   "source": [
    "# São Paulo -> Rio de Janeiro\n",
    "dist_km = osrm_distance(-23.5505, -46.6333, -22.9068, -43.1729)\n",
    "\n",
    "print(f\"Driving distance: {dist_km:.2f} km\")\n",
    "#print(f\"Estimated duration: {duration_min:.1f} min\")"
   ]
  },
  {
   "cell_type": "markdown",
   "id": "5c9c48d6",
   "metadata": {},
   "source": [
    "### 1. Computing distance matrix"
   ]
  },
  {
   "cell_type": "code",
   "execution_count": 4,
   "id": "fff0862c",
   "metadata": {},
   "outputs": [],
   "source": [
    "###loading dfs\n",
    "info_dc = pd.read_csv(\"data/distribution_center_dataframe.csv\")\n",
    "info_stores = pd.read_csv(\"data/stores_dataframe.csv\")"
   ]
  },
  {
   "cell_type": "code",
   "execution_count": 5,
   "id": "43c7ba86",
   "metadata": {},
   "outputs": [
    {
     "data": {
      "text/html": [
       "<div>\n",
       "<style scoped>\n",
       "    .dataframe tbody tr th:only-of-type {\n",
       "        vertical-align: middle;\n",
       "    }\n",
       "\n",
       "    .dataframe tbody tr th {\n",
       "        vertical-align: top;\n",
       "    }\n",
       "\n",
       "    .dataframe thead th {\n",
       "        text-align: right;\n",
       "    }\n",
       "</style>\n",
       "<table border=\"1\" class=\"dataframe\">\n",
       "  <thead>\n",
       "    <tr style=\"text-align: right;\">\n",
       "      <th></th>\n",
       "      <th>distribution_center</th>\n",
       "      <th>latitude</th>\n",
       "      <th>longitude</th>\n",
       "      <th>supply</th>\n",
       "    </tr>\n",
       "  </thead>\n",
       "  <tbody>\n",
       "    <tr>\n",
       "      <th>0</th>\n",
       "      <td>dca</td>\n",
       "      <td>-8.971053</td>\n",
       "      <td>-55.773196</td>\n",
       "      <td>1510</td>\n",
       "    </tr>\n",
       "    <tr>\n",
       "      <th>1</th>\n",
       "      <td>dcb</td>\n",
       "      <td>-20.257081</td>\n",
       "      <td>-50.834509</td>\n",
       "      <td>1847</td>\n",
       "    </tr>\n",
       "    <tr>\n",
       "      <th>2</th>\n",
       "      <td>dcc</td>\n",
       "      <td>-11.273721</td>\n",
       "      <td>-51.490627</td>\n",
       "      <td>1040</td>\n",
       "    </tr>\n",
       "    <tr>\n",
       "      <th>3</th>\n",
       "      <td>dcd</td>\n",
       "      <td>-10.854486</td>\n",
       "      <td>-46.383194</td>\n",
       "      <td>1947</td>\n",
       "    </tr>\n",
       "    <tr>\n",
       "      <th>4</th>\n",
       "      <td>dce</td>\n",
       "      <td>-11.802726</td>\n",
       "      <td>-50.969810</td>\n",
       "      <td>1263</td>\n",
       "    </tr>\n",
       "    <tr>\n",
       "      <th>5</th>\n",
       "      <td>dcf</td>\n",
       "      <td>-10.802853</td>\n",
       "      <td>-52.548780</td>\n",
       "      <td>1533</td>\n",
       "    </tr>\n",
       "    <tr>\n",
       "      <th>6</th>\n",
       "      <td>dcg</td>\n",
       "      <td>-8.289540</td>\n",
       "      <td>-45.265429</td>\n",
       "      <td>1539</td>\n",
       "    </tr>\n",
       "    <tr>\n",
       "      <th>7</th>\n",
       "      <td>dch</td>\n",
       "      <td>-7.077118</td>\n",
       "      <td>-56.739872</td>\n",
       "      <td>1420</td>\n",
       "    </tr>\n",
       "    <tr>\n",
       "      <th>8</th>\n",
       "      <td>dci</td>\n",
       "      <td>-5.911711</td>\n",
       "      <td>-56.545805</td>\n",
       "      <td>1352</td>\n",
       "    </tr>\n",
       "    <tr>\n",
       "      <th>9</th>\n",
       "      <td>dcj</td>\n",
       "      <td>-12.417353</td>\n",
       "      <td>-49.881595</td>\n",
       "      <td>1178</td>\n",
       "    </tr>\n",
       "  </tbody>\n",
       "</table>\n",
       "</div>"
      ],
      "text/plain": [
       "  distribution_center   latitude  longitude  supply\n",
       "0                 dca  -8.971053 -55.773196    1510\n",
       "1                 dcb -20.257081 -50.834509    1847\n",
       "2                 dcc -11.273721 -51.490627    1040\n",
       "3                 dcd -10.854486 -46.383194    1947\n",
       "4                 dce -11.802726 -50.969810    1263\n",
       "5                 dcf -10.802853 -52.548780    1533\n",
       "6                 dcg  -8.289540 -45.265429    1539\n",
       "7                 dch  -7.077118 -56.739872    1420\n",
       "8                 dci  -5.911711 -56.545805    1352\n",
       "9                 dcj -12.417353 -49.881595    1178"
      ]
     },
     "execution_count": 5,
     "metadata": {},
     "output_type": "execute_result"
    }
   ],
   "source": [
    "info_dc"
   ]
  },
  {
   "cell_type": "code",
   "execution_count": 6,
   "id": "e90e4adc",
   "metadata": {},
   "outputs": [],
   "source": [
    "### extracting lat-lon coordinates\n",
    "dc_coords = list(info_dc[[\"latitude\", \"longitude\"]].itertuples(index=False, name=None))\n",
    "stores_coords = list(info_stores[[\"latitude\", \"longitude\"]].itertuples(index=False, name=None))"
   ]
  },
  {
   "cell_type": "code",
   "execution_count": 7,
   "id": "6c05d5b4",
   "metadata": {},
   "outputs": [
    {
     "name": "stdout",
     "output_type": "stream",
     "text": [
      "(10, 20)\n",
      "[[2012.618  2008.4135 1571.3873]\n",
      " [1895.4803 1889.5261  405.0007]\n",
      " [1338.8951 1332.941   932.3173]]\n"
     ]
    }
   ],
   "source": [
    "###computing distance matrix\n",
    "n, m = len(dc_coords), len(stores_coords)\n",
    "dist_mat = np.zeros((n, m))\n",
    "dist_mat = osrm_table(dc_coords, stores_coords)\n",
    "print(dist_mat.shape)   # (n_cds, n_lojas)\n",
    "print(dist_mat[:3, :3]) # preview"
   ]
  },
  {
   "cell_type": "code",
   "execution_count": 8,
   "id": "655e5e8a",
   "metadata": {},
   "outputs": [
    {
     "data": {
      "image/png": "[encoded data removed]",
      "text/plain": [
       "<Figure size 640x480 with 2 Axes>"
      ]
     },
     "metadata": {},
     "output_type": "display_data"
    }
   ],
   "source": [
    "sns.heatmap(dist_mat, cmap='coolwarm')\n",
    "plt.show()"
   ]
  },
  {
   "cell_type": "markdown",
   "id": "8e4d3408",
   "metadata": {},
   "source": [
    "### 2. Creating variables"
   ]
  },
  {
   "cell_type": "code",
   "execution_count": 9,
   "id": "9fdbee44",
   "metadata": {},
   "outputs": [],
   "source": [
    "supply = {}\n",
    "for i in range(n):\n",
    "    supply[info_dc.iloc[i,0]] = info_dc.iloc[i,3]  # Example: each CD has a supply of 1000 units    "
   ]
  },
  {
   "cell_type": "code",
   "execution_count": 10,
   "id": "1feac94e",
   "metadata": {},
   "outputs": [],
   "source": [
    "demand = {}\n",
    "for i in range(m):\n",
    "    demand[info_stores.iloc[i,0]] = info_stores.iloc[i,3]  # Example: each store has a demand of 100 units"
   ]
  },
  {
   "cell_type": "code",
   "execution_count": 11,
   "id": "ae3205ca",
   "metadata": {},
   "outputs": [],
   "source": [
    "warehouses = info_dc[\"distribution_center\"].tolist()\n",
    "stores = info_stores[\"store\"].tolist()"
   ]
  },
  {
   "cell_type": "code",
   "execution_count": 12,
   "id": "9efa6273",
   "metadata": {},
   "outputs": [
    {
     "data": {
      "text/plain": [
       "['dca', 'dcb', 'dcc', 'dcd', 'dce', 'dcf', 'dcg', 'dch', 'dci', 'dcj']"
      ]
     },
     "execution_count": 12,
     "metadata": {},
     "output_type": "execute_result"
    }
   ],
   "source": [
    "warehouses"
   ]
  },
  {
   "cell_type": "code",
   "execution_count": 13,
   "id": "17d6d05b",
   "metadata": {},
   "outputs": [],
   "source": [
    "# The cost data is made into a dictionary\n",
    "costs_dict = makeDict([warehouses, stores], dist_mat, 0)"
   ]
  },
  {
   "cell_type": "code",
   "execution_count": 14,
   "id": "513b60ac",
   "metadata": {},
   "outputs": [],
   "source": [
    "# Creates the 'prob' variable to contain the problem data\n",
    "prob = LpProblem(\"transport_distribution_problem\", LpMinimize)"
   ]
  },
  {
   "cell_type": "code",
   "execution_count": 15,
   "id": "9224968e",
   "metadata": {},
   "outputs": [],
   "source": [
    "# Creates a list of tuples containing all the possible routes for transport\n",
    "Routes = [(w, s) for w in warehouses for s in stores]\n",
    "\n",
    "# A dictionary called 'Vars' is created to contain the referenced variables(the routes)\n",
    "vars = LpVariable.dicts(\"Route\", (warehouses, stores), 0, None, LpInteger)\n",
    "\n",
    "# The objective function is added to 'prob' first\n",
    "prob += (\n",
    "    lpSum([vars[w][s] * costs_dict[w][s] for (w, s) in Routes]),\n",
    "    \"Sum_of_Transporting_Costs\",\n",
    ")"
   ]
  },
  {
   "cell_type": "code",
   "execution_count": 16,
   "id": "28fde632",
   "metadata": {},
   "outputs": [],
   "source": [
    "# The supply maximum constraints are added to prob for each supply node (warehouse)\n",
    "for w in warehouses:\n",
    "    prob += (\n",
    "        lpSum([vars[w][s] for s in stores]) <= supply[w],\n",
    "        f\"Sum_of_Products_out_of_Warehouse_{w}\",\n",
    "    )"
   ]
  },
  {
   "cell_type": "code",
   "execution_count": 17,
   "id": "5a478e3a",
   "metadata": {},
   "outputs": [],
   "source": [
    "# The demand minimum constraints are added to prob for each demand node (bar)\n",
    "for s in stores:\n",
    "    prob += (\n",
    "        lpSum([vars[w][s] for w in warehouses]) >= demand[s],\n",
    "        f\"Sum_of_Products_into_Bar{s}\",\n",
    "    )"
   ]
  },
  {
   "cell_type": "code",
   "execution_count": 18,
   "id": "5c469c3e",
   "metadata": {},
   "outputs": [
    {
     "name": "stdout",
     "output_type": "stream",
     "text": [
      "Number of variables: 200\n",
      "Number of constraints: 30\n"
     ]
    }
   ],
   "source": [
    "print(\"Number of variables:\", len(prob.variables()))\n",
    "print(\"Number of constraints:\", len(prob.constraints))"
   ]
  },
  {
   "cell_type": "code",
   "execution_count": 19,
   "id": "5e8d91c6",
   "metadata": {},
   "outputs": [
    {
     "data": {
      "text/plain": [
       "['PULP_CBC_CMD', 'COIN_CMD', 'HiGHS_CMD']"
      ]
     },
     "execution_count": 19,
     "metadata": {},
     "output_type": "execute_result"
    }
   ],
   "source": [
    "listSolvers(onlyAvailable=True)"
   ]
  },
  {
   "cell_type": "code",
   "execution_count": 20,
   "id": "1d30e300",
   "metadata": {},
   "outputs": [
    {
     "data": {
      "text/plain": [
       "1"
      ]
     },
     "execution_count": 20,
     "metadata": {},
     "output_type": "execute_result"
    }
   ],
   "source": [
    "# The problem is solved using HiGHS Solver\n",
    "prob.solve()"
   ]
  },
  {
   "cell_type": "code",
   "execution_count": 21,
   "id": "96303822",
   "metadata": {},
   "outputs": [
    {
     "name": "stdout",
     "output_type": "stream",
     "text": [
      "Status: Optimal\n"
     ]
    }
   ],
   "source": [
    "# The status of the solution is printed to the screen\n",
    "print(\"Status:\", LpStatus[prob.status])"
   ]
  },
  {
   "cell_type": "markdown",
   "id": "3df38588",
   "metadata": {},
   "source": [
    "### 3. Plotting created routes"
   ]
  },
  {
   "cell_type": "code",
   "execution_count": 22,
   "id": "c41c2471",
   "metadata": {},
   "outputs": [
    {
     "name": "stdout",
     "output_type": "stream",
     "text": [
      "From dca to storeg: 489.0\n",
      "From dca to stores: 488.0\n",
      "From dcb to storec: 397.0\n",
      "From dcb to storeh: 338.0\n",
      "From dcb to storek: 350.0\n",
      "From dcb to storen: 440.0\n",
      "From dcc to storem: 417.0\n",
      "From dcc to storep: 318.0\n",
      "From dcc to storet: 305.0\n",
      "From dce to storeq: 313.0\n",
      "From dcf to stored: 477.0\n",
      "From dcf to storem: 21.0\n",
      "From dcf to storeo: 442.0\n",
      "From dcf to storer: 431.0\n",
      "From dcg to storea: 322.0\n",
      "From dcg to storeb: 372.0\n",
      "From dcg to storef: 406.0\n",
      "From dcg to storel: 312.0\n",
      "From dci to storee: 359.0\n",
      "From dcj to storei: 440.0\n",
      "From dcj to storej: 481.0\n"
     ]
    }
   ],
   "source": [
    "###checking the routes\n",
    "for w in warehouses:\n",
    "    for s in stores:\n",
    "        if vars[w][s].varValue > 0:\n",
    "            print(f\"From {w} to {s}: {vars[w][s].varValue}\")"
   ]
  },
  {
   "cell_type": "code",
   "execution_count": null,
   "id": "c4df638e",
   "metadata": {},
   "outputs": [],
   "source": [
    "###checking the used warehouses with positive routes\n",
    "used_war = {}\n",
    "for w in warehouses:\n",
    "    used_stores = []\n",
    "    for s in stores:\n",
    "        if vars[w][s].varValue > 0:\n",
    "            used_stores.append(s)\n",
    "            used_war[w] = used_stores"
   ]
  },
  {
   "cell_type": "code",
   "execution_count": 108,
   "id": "72ba358d",
   "metadata": {},
   "outputs": [],
   "source": [
    "def routes(ori):\n",
    "    #collecting origin lat lon coordinates\n",
    "    idx = info_dc.index[info_dc['distribution_center']==ori]\n",
    "    collat = info_dc.columns.get_loc('latitude')\n",
    "    collon = info_dc.columns.get_loc('longitude')\n",
    "    lat = float(info_dc.iloc[idx,collat])\n",
    "    lon = float(info_dc.iloc[idx,collon])\n",
    "    origin = [lat,lon]\n",
    "    map_dc = folium.Map(location=origin)\n",
    "    folium.Marker(location=origin, popup=f\"Distribution center {ori}.\").add_to(map_dc)\n",
    "\n",
    "    #creating list of destinations\n",
    "    destinations = []\n",
    "    for store in used_war[ori]:\n",
    "        store1 = []\n",
    "        idx = info_stores.index[info_stores['store']==store]\n",
    "        collat = info_stores.columns.get_loc('latitude')\n",
    "        collon = info_stores.columns.get_loc('longitude')\n",
    "        store1.append(float(info_stores.iloc[idx,collat]))\n",
    "        store1.append(float(info_stores.iloc[idx,collon]))\n",
    "        destinations.append(store1)\n",
    "\n",
    "    #creating list of routes\n",
    "    routes_ori = []\n",
    "    for dest in destinations:\n",
    "        route1 = []\n",
    "        route1.append(origin)\n",
    "        route1.append(dest)\n",
    "        routes_ori.append(route1)\n",
    "\n",
    "    # Add red markers for stores\n",
    "    for i in range(len(routes_ori)):\n",
    "        folium.Marker(location=routes_ori[i][1], icon=folium.Icon(color=\"red\")).add_to(map_dc)\n",
    "    # Add the PolyLine to represent the route\n",
    "    for i in range(len(routes_ori)):\n",
    "        folium.PolyLine(routes_ori[i], color=\"blue\", weight=5, opacity=0.7).add_to(map_dc)\n",
    "    map_dc.save(f\"maps/{ori}_routes.html\")\n",
    "        "
   ]
  },
  {
   "cell_type": "code",
   "execution_count": 110,
   "id": "74f0d9a2",
   "metadata": {},
   "outputs": [
    {
     "name": "stderr",
     "output_type": "stream",
     "text": [
      "C:\\Users\\user\\AppData\\Local\\Temp\\ipykernel_5364\\632712655.py:6: FutureWarning: Calling float on a single element Series is deprecated and will raise a TypeError in the future. Use float(ser.iloc[0]) instead\n",
      "  lat = float(info_dc.iloc[idx,collat])\n",
      "C:\\Users\\user\\AppData\\Local\\Temp\\ipykernel_5364\\632712655.py:7: FutureWarning: Calling float on a single element Series is deprecated and will raise a TypeError in the future. Use float(ser.iloc[0]) instead\n",
      "  lon = float(info_dc.iloc[idx,collon])\n",
      "C:\\Users\\user\\AppData\\Local\\Temp\\ipykernel_5364\\632712655.py:19: FutureWarning: Calling float on a single element Series is deprecated and will raise a TypeError in the future. Use float(ser.iloc[0]) instead\n",
      "  store1.append(float(info_stores.iloc[idx,collat]))\n",
      "C:\\Users\\user\\AppData\\Local\\Temp\\ipykernel_5364\\632712655.py:20: FutureWarning: Calling float on a single element Series is deprecated and will raise a TypeError in the future. Use float(ser.iloc[0]) instead\n",
      "  store1.append(float(info_stores.iloc[idx,collon]))\n"
     ]
    }
   ],
   "source": [
    "routes('dcc')"
   ]
  },
  {
   "cell_type": "code",
   "execution_count": 156,
   "id": "bddb3b45",
   "metadata": {},
   "outputs": [],
   "source": [
    "def all_routes():\n",
    "    #creating the first marker to the map\n",
    "    idx = info_dc.index[info_dc['distribution_center']=='dca']\n",
    "    collat = info_dc.columns.get_loc('latitude')\n",
    "    collon = info_dc.columns.get_loc('longitude')\n",
    "    lat = float(info_dc.iloc[idx,collat])\n",
    "    lon = float(info_dc.iloc[idx,collon])\n",
    "    origin = [lat,lon]\n",
    "    map = folium.Map(location=origin)\n",
    "\n",
    "    ##adding blue markers to distribution centers\n",
    "    for dc in used_war:\n",
    "        idx = info_dc.index[info_dc['distribution_center']==dc]\n",
    "        collat = info_dc.columns.get_loc('latitude')\n",
    "        collon = info_dc.columns.get_loc('longitude')\n",
    "        lat = float(info_dc.iloc[idx,collat])\n",
    "        lon = float(info_dc.iloc[idx,collon])\n",
    "        point = [lat,lon]\n",
    "        folium.Marker(location=point, icon=folium.Icon(color=\"blue\"), popup=f\"Distribution center {dc}.\").add_to(map)\n",
    "    \n",
    "    ##adding red markers to stores\n",
    "    for store in used_stores:\n",
    "        idx = info_stores.index[info_stores['store']==store]\n",
    "        collat = info_stores.columns.get_loc('latitude')\n",
    "        collon = info_stores.columns.get_loc('longitude')\n",
    "        lat = float(info_stores.iloc[idx,collat])\n",
    "        lon = float(info_stores.iloc[idx,collon])\n",
    "        point = [lat,lon]\n",
    "        folium.Marker(location=point, icon=folium.Icon(color=\"red\"), popup=f\"Store {store}.\").add_to(map)\n",
    "\n",
    "    ##adding routes\n",
    "    for ori in used_war.keys():\n",
    "        idx = info_dc.index[info_dc['distribution_center']==ori]\n",
    "        collat = info_dc.columns.get_loc('latitude')\n",
    "        collon = info_dc.columns.get_loc('longitude')\n",
    "        lat = float(info_dc.iloc[idx,collat])\n",
    "        lon = float(info_dc.iloc[idx,collon])\n",
    "        origin = [lat,lon] \n",
    "    #creating list of destinations\n",
    "        destinations = []\n",
    "        for store in used_war[ori]:\n",
    "            store1 = []\n",
    "            idx = info_stores.index[info_stores['store']==store]\n",
    "            collat = info_stores.columns.get_loc('latitude')\n",
    "            collon = info_stores.columns.get_loc('longitude')\n",
    "            store1.append(float(info_stores.iloc[idx,collat]))\n",
    "            store1.append(float(info_stores.iloc[idx,collon]))\n",
    "            destinations.append(store1)\n",
    "\n",
    "        #creating list of routes\n",
    "        routes_ori = []\n",
    "        for dest in destinations:\n",
    "            route1 = []\n",
    "            route1.append(origin)\n",
    "            route1.append(dest)\n",
    "            routes_ori.append(route1)\n",
    "\n",
    "\n",
    "        # Add the PolyLine to represent the route\n",
    "        for i in range(len(routes_ori)):\n",
    "            folium.PolyLine(routes_ori[i], color=\"blue\", weight=5, opacity=0.7).add_to(map)\n",
    "        map.save(f\"maps/all_routes.html\")\n",
    "\n",
    "\n",
    "\n",
    "    "
   ]
  },
  {
   "cell_type": "code",
   "execution_count": 158,
   "id": "a17ac3bb",
   "metadata": {},
   "outputs": [],
   "source": [
    "used_stores = []\n",
    "for war in used_war:\n",
    "    for i in range(len(used_war[war])):\n",
    "        used_stores.append(used_war[war][i])      \n"
   ]
  },
  {
   "cell_type": "code",
   "execution_count": 157,
   "id": "cc11296f",
   "metadata": {},
   "outputs": [
    {
     "name": "stderr",
     "output_type": "stream",
     "text": [
      "C:\\Users\\user\\AppData\\Local\\Temp\\ipykernel_5364\\983325751.py:6: FutureWarning: Calling float on a single element Series is deprecated and will raise a TypeError in the future. Use float(ser.iloc[0]) instead\n",
      "  lat = float(info_dc.iloc[idx,collat])\n",
      "C:\\Users\\user\\AppData\\Local\\Temp\\ipykernel_5364\\983325751.py:7: FutureWarning: Calling float on a single element Series is deprecated and will raise a TypeError in the future. Use float(ser.iloc[0]) instead\n",
      "  lon = float(info_dc.iloc[idx,collon])\n",
      "C:\\Users\\user\\AppData\\Local\\Temp\\ipykernel_5364\\983325751.py:16: FutureWarning: Calling float on a single element Series is deprecated and will raise a TypeError in the future. Use float(ser.iloc[0]) instead\n",
      "  lat = float(info_dc.iloc[idx,collat])\n",
      "C:\\Users\\user\\AppData\\Local\\Temp\\ipykernel_5364\\983325751.py:17: FutureWarning: Calling float on a single element Series is deprecated and will raise a TypeError in the future. Use float(ser.iloc[0]) instead\n",
      "  lon = float(info_dc.iloc[idx,collon])\n",
      "C:\\Users\\user\\AppData\\Local\\Temp\\ipykernel_5364\\983325751.py:26: FutureWarning: Calling float on a single element Series is deprecated and will raise a TypeError in the future. Use float(ser.iloc[0]) instead\n",
      "  lat = float(info_stores.iloc[idx,collat])\n",
      "C:\\Users\\user\\AppData\\Local\\Temp\\ipykernel_5364\\983325751.py:27: FutureWarning: Calling float on a single element Series is deprecated and will raise a TypeError in the future. Use float(ser.iloc[0]) instead\n",
      "  lon = float(info_stores.iloc[idx,collon])\n",
      "C:\\Users\\user\\AppData\\Local\\Temp\\ipykernel_5364\\983325751.py:36: FutureWarning: Calling float on a single element Series is deprecated and will raise a TypeError in the future. Use float(ser.iloc[0]) instead\n",
      "  lat = float(info_dc.iloc[idx,collat])\n",
      "C:\\Users\\user\\AppData\\Local\\Temp\\ipykernel_5364\\983325751.py:37: FutureWarning: Calling float on a single element Series is deprecated and will raise a TypeError in the future. Use float(ser.iloc[0]) instead\n",
      "  lon = float(info_dc.iloc[idx,collon])\n",
      "C:\\Users\\user\\AppData\\Local\\Temp\\ipykernel_5364\\983325751.py:46: FutureWarning: Calling float on a single element Series is deprecated and will raise a TypeError in the future. Use float(ser.iloc[0]) instead\n",
      "  store1.append(float(info_stores.iloc[idx,collat]))\n",
      "C:\\Users\\user\\AppData\\Local\\Temp\\ipykernel_5364\\983325751.py:47: FutureWarning: Calling float on a single element Series is deprecated and will raise a TypeError in the future. Use float(ser.iloc[0]) instead\n",
      "  store1.append(float(info_stores.iloc[idx,collon]))\n"
     ]
    }
   ],
   "source": [
    "all_routes()"
   ]
  }
 ],
 "metadata": {
  "kernelspec": {
   "display_name": "slotting_env",
   "language": "python",
   "name": "python3"
  },
  "language_info": {
   "codemirror_mode": {
    "name": "ipython",
    "version": 3
   },
   "file_extension": ".py",
   "mimetype": "text/x-python",
   "name": "python",
   "nbconvert_exporter": "python",
   "pygments_lexer": "ipython3",
   "version": "3.10.18"
  }
 },
 "nbformat": 4,
 "nbformat_minor": 5
}
