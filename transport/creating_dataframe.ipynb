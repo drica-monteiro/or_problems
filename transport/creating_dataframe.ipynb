{
 "cells": [
  {
   "cell_type": "code",
   "execution_count": 1,
   "id": "58e33ecf",
   "metadata": {},
   "outputs": [],
   "source": [
    "from shapely.geometry import Polygon\n",
    "import folium\n",
    "import pandas as pd\n",
    "from functions import random_point_in_polygon\n",
    "import numpy as np\n",
    "import os"
   ]
  },
  {
   "cell_type": "code",
   "execution_count": 2,
   "id": "c1b48e8d",
   "metadata": {},
   "outputs": [],
   "source": [
    "####creating a polygon in brazil"
   ]
  },
  {
   "cell_type": "code",
   "execution_count": 4,
   "id": "78516f4d",
   "metadata": {},
   "outputs": [],
   "source": [
    "# Create a map centered on a starting point\n",
    "m = folium.Map(location=[-3.10, -60.02])\n",
    "##adding markers for polygon vertices:\n",
    "folium.Marker(location = (-3.10, -60.02), icon=folium.Icon(color='green')).add_to(m)\n",
    "folium.Marker(location = (-8.28, -43.95), icon=folium.Icon(color='green')).add_to(m)\n",
    "folium.Marker(location = (-20.45, -54.62), icon=folium.Icon(color='green')).add_to(m)\n",
    "folium.Marker(location = (-23.55, -46.63), icon=folium.Icon(color='green')).add_to(m)\n",
    "m.save(\"maps/polygon_brazil.html\")"
   ]
  },
  {
   "cell_type": "markdown",
   "id": "2de7cd1d",
   "metadata": {},
   "source": [
    "### 1. Creating distribution center dataframe"
   ]
  },
  {
   "cell_type": "code",
   "execution_count": 5,
   "id": "fec6a142",
   "metadata": {},
   "outputs": [],
   "source": [
    "#####generating random points in this polygon"
   ]
  },
  {
   "cell_type": "code",
   "execution_count": 6,
   "id": "4ea7395b",
   "metadata": {},
   "outputs": [],
   "source": [
    "poly = Polygon([(-3.10, -60.02), (-8.28, -43.95), (-20.45, -54.62), (-23.55, -46.63)])"
   ]
  },
  {
   "cell_type": "code",
   "execution_count": 7,
   "id": "e513dbb8",
   "metadata": {},
   "outputs": [],
   "source": [
    "rand_points = random_point_in_polygon(poly, 10)"
   ]
  },
  {
   "cell_type": "code",
   "execution_count": 8,
   "id": "781f33a3",
   "metadata": {},
   "outputs": [],
   "source": [
    "####creating a map with these points\n",
    "m2 = folium.Map(location=rand_points[0])\n",
    "##adding markers for each random point:\n",
    "for i in range(len(rand_points)):\n",
    "    folium.Marker(location = (rand_points[i][0], rand_points[i][1]), icon=folium.Icon(color='blue')).add_to(m2)\n",
    "m2.save(\"maps/polygon_brazil_randpoints.html\")"
   ]
  },
  {
   "cell_type": "code",
   "execution_count": 9,
   "id": "65f81bdb",
   "metadata": {},
   "outputs": [],
   "source": [
    "alpha = list(map(chr, range(97, 123)))"
   ]
  },
  {
   "cell_type": "code",
   "execution_count": 10,
   "id": "9d376bfd",
   "metadata": {},
   "outputs": [],
   "source": [
    "####creating a dataframe with these points\n",
    "dist_cent = []\n",
    "for i, letter in zip(rand_points, alpha):\n",
    "        dist_cent.append(f'dc{letter}')"
   ]
  },
  {
   "cell_type": "code",
   "execution_count": 11,
   "id": "54b6b9bc",
   "metadata": {},
   "outputs": [],
   "source": [
    "supplies = list(np.random.uniform(1000,2000,len(dist_cent)).astype(int))"
   ]
  },
  {
   "cell_type": "code",
   "execution_count": 12,
   "id": "835e6c99",
   "metadata": {},
   "outputs": [
    {
     "data": {
      "text/plain": [
       "10"
      ]
     },
     "execution_count": 12,
     "metadata": {},
     "output_type": "execute_result"
    }
   ],
   "source": [
    "len(dist_cent)"
   ]
  },
  {
   "cell_type": "code",
   "execution_count": 13,
   "id": "0a9dd89e",
   "metadata": {},
   "outputs": [],
   "source": [
    "data = {'distribution_center': dist_cent,\n",
    "        'latitude': [point[0] for point in rand_points],\n",
    "        'longitude': [point[1] for point in rand_points],\n",
    "        'supply': supplies}\n",
    "df = pd.DataFrame(data)"
   ]
  },
  {
   "cell_type": "code",
   "execution_count": 14,
   "id": "d873c944",
   "metadata": {},
   "outputs": [
    {
     "data": {
      "text/html": [
       "<div>\n",
       "<style scoped>\n",
       "    .dataframe tbody tr th:only-of-type {\n",
       "        vertical-align: middle;\n",
       "    }\n",
       "\n",
       "    .dataframe tbody tr th {\n",
       "        vertical-align: top;\n",
       "    }\n",
       "\n",
       "    .dataframe thead th {\n",
       "        text-align: right;\n",
       "    }\n",
       "</style>\n",
       "<table border=\"1\" class=\"dataframe\">\n",
       "  <thead>\n",
       "    <tr style=\"text-align: right;\">\n",
       "      <th></th>\n",
       "      <th>distribution_center</th>\n",
       "      <th>latitude</th>\n",
       "      <th>longitude</th>\n",
       "      <th>supply</th>\n",
       "    </tr>\n",
       "  </thead>\n",
       "  <tbody>\n",
       "    <tr>\n",
       "      <th>0</th>\n",
       "      <td>dca</td>\n",
       "      <td>-8.971053</td>\n",
       "      <td>-55.773196</td>\n",
       "      <td>1510</td>\n",
       "    </tr>\n",
       "    <tr>\n",
       "      <th>1</th>\n",
       "      <td>dcb</td>\n",
       "      <td>-20.257081</td>\n",
       "      <td>-50.834509</td>\n",
       "      <td>1847</td>\n",
       "    </tr>\n",
       "    <tr>\n",
       "      <th>2</th>\n",
       "      <td>dcc</td>\n",
       "      <td>-11.273721</td>\n",
       "      <td>-51.490627</td>\n",
       "      <td>1040</td>\n",
       "    </tr>\n",
       "    <tr>\n",
       "      <th>3</th>\n",
       "      <td>dcd</td>\n",
       "      <td>-10.854486</td>\n",
       "      <td>-46.383194</td>\n",
       "      <td>1947</td>\n",
       "    </tr>\n",
       "    <tr>\n",
       "      <th>4</th>\n",
       "      <td>dce</td>\n",
       "      <td>-11.802726</td>\n",
       "      <td>-50.969810</td>\n",
       "      <td>1263</td>\n",
       "    </tr>\n",
       "    <tr>\n",
       "      <th>5</th>\n",
       "      <td>dcf</td>\n",
       "      <td>-10.802853</td>\n",
       "      <td>-52.548780</td>\n",
       "      <td>1533</td>\n",
       "    </tr>\n",
       "    <tr>\n",
       "      <th>6</th>\n",
       "      <td>dcg</td>\n",
       "      <td>-8.289540</td>\n",
       "      <td>-45.265429</td>\n",
       "      <td>1539</td>\n",
       "    </tr>\n",
       "    <tr>\n",
       "      <th>7</th>\n",
       "      <td>dch</td>\n",
       "      <td>-7.077118</td>\n",
       "      <td>-56.739872</td>\n",
       "      <td>1420</td>\n",
       "    </tr>\n",
       "    <tr>\n",
       "      <th>8</th>\n",
       "      <td>dci</td>\n",
       "      <td>-5.911711</td>\n",
       "      <td>-56.545805</td>\n",
       "      <td>1352</td>\n",
       "    </tr>\n",
       "    <tr>\n",
       "      <th>9</th>\n",
       "      <td>dcj</td>\n",
       "      <td>-12.417353</td>\n",
       "      <td>-49.881595</td>\n",
       "      <td>1178</td>\n",
       "    </tr>\n",
       "  </tbody>\n",
       "</table>\n",
       "</div>"
      ],
      "text/plain": [
       "  distribution_center   latitude  longitude  supply\n",
       "0                 dca  -8.971053 -55.773196    1510\n",
       "1                 dcb -20.257081 -50.834509    1847\n",
       "2                 dcc -11.273721 -51.490627    1040\n",
       "3                 dcd -10.854486 -46.383194    1947\n",
       "4                 dce -11.802726 -50.969810    1263\n",
       "5                 dcf -10.802853 -52.548780    1533\n",
       "6                 dcg  -8.289540 -45.265429    1539\n",
       "7                 dch  -7.077118 -56.739872    1420\n",
       "8                 dci  -5.911711 -56.545805    1352\n",
       "9                 dcj -12.417353 -49.881595    1178"
      ]
     },
     "execution_count": 14,
     "metadata": {},
     "output_type": "execute_result"
    }
   ],
   "source": [
    "df"
   ]
  },
  {
   "cell_type": "code",
   "execution_count": 16,
   "id": "1bc1b93c",
   "metadata": {},
   "outputs": [],
   "source": [
    "folder = \"data\"\n",
    "filename = \"distribution_center_dataframe.csv\"\n",
    "\n",
    "# Save DataFrame\n",
    "df.to_csv(os.path.join(folder, filename), index=False)"
   ]
  },
  {
   "cell_type": "markdown",
   "id": "64fc2339",
   "metadata": {},
   "source": [
    "### 2. Creating a stores dataframe"
   ]
  },
  {
   "cell_type": "code",
   "execution_count": 17,
   "id": "9fb67177",
   "metadata": {},
   "outputs": [],
   "source": [
    "###creating random points for stores\n",
    "rand_points_stores = random_point_in_polygon(poly, 20)"
   ]
  },
  {
   "cell_type": "code",
   "execution_count": 18,
   "id": "6a66d2a5",
   "metadata": {},
   "outputs": [],
   "source": [
    "####creating a map with these points\n",
    "m3 = folium.Map(location=rand_points_stores[0])\n",
    "##adding markers for each random point:\n",
    "for i in range(len(rand_points_stores)):\n",
    "    folium.Marker(location = (rand_points_stores[i][0], rand_points_stores[i][1]), icon=folium.Icon(color='red')).add_to(m3)\n",
    "m3.save(\"maps/rand_stores.html\")"
   ]
  },
  {
   "cell_type": "code",
   "execution_count": 19,
   "id": "0fa2a566",
   "metadata": {},
   "outputs": [],
   "source": [
    "m4 = folium.Map(location=rand_points_stores[0])\n",
    "##adding blue markers for each dc:\n",
    "for i in range(len(rand_points)):\n",
    "    folium.Marker(location = (rand_points[i][0], rand_points[i][1]), icon=folium.Icon(color='blue')).add_to(m4)\n",
    "##adding red markers for each store:\n",
    "for i in range(len(rand_points_stores)):\n",
    "    folium.Marker(location = (rand_points_stores[i][0], rand_points_stores[i][1]), icon=folium.Icon(color='red')).add_to(m4)\n",
    "m4.save(\"maps/stores_dc.html\")"
   ]
  },
  {
   "cell_type": "code",
   "execution_count": 20,
   "id": "eedb103f",
   "metadata": {},
   "outputs": [],
   "source": [
    "####creating a dataframe with these points\n",
    "stores = []\n",
    "for i, letter in zip(rand_points_stores, alpha):\n",
    "    stores.append(f'store{letter}')"
   ]
  },
  {
   "cell_type": "code",
   "execution_count": 21,
   "id": "7e074f0f",
   "metadata": {},
   "outputs": [],
   "source": [
    "demands = list(np.random.uniform(300,500,len(rand_points_stores)).astype(int))\n",
    "data = {'store': stores,\n",
    "        'latitude': [point[0] for point in rand_points_stores],\n",
    "        'longitude': [point[1] for point in rand_points_stores],\n",
    "        'demand': demands}\n",
    "df_stores = pd.DataFrame(data)"
   ]
  },
  {
   "cell_type": "code",
   "execution_count": 22,
   "id": "bc8eb286",
   "metadata": {},
   "outputs": [],
   "source": [
    "folder = \"data\"\n",
    "filename = \"stores_dataframe.csv\"\n",
    "\n",
    "# Save DataFrame\n",
    "df_stores.to_csv(os.path.join(folder, filename), index=False)"
   ]
  },
  {
   "cell_type": "markdown",
   "id": "7fae22ef",
   "metadata": {},
   "source": [
    "### 3. Checking if total supply is less than total demand"
   ]
  },
  {
   "cell_type": "code",
   "execution_count": 23,
   "id": "7709b549",
   "metadata": {},
   "outputs": [
    {
     "name": "stdout",
     "output_type": "stream",
     "text": [
      "Total supply: 14629\n",
      "Total demand: 7918\n",
      "Supply and demand are balanced.\n"
     ]
    }
   ],
   "source": [
    "# Check totals\n",
    "print(\"Total supply:\", sum(supplies))\n",
    "print(\"Total demand:\", sum(demands))\n",
    "if sum(supplies) < sum(demands):\n",
    "    print(\"Warning: Total supply is less than total demand. Adjusting supplies.\")\n",
    "else:\n",
    "    print(\"Supply and demand are balanced.\")"
   ]
  },
  {
   "cell_type": "code",
   "execution_count": 24,
   "id": "ac4376f1",
   "metadata": {},
   "outputs": [
    {
     "data": {
      "text/html": [
       "<div>\n",
       "<style scoped>\n",
       "    .dataframe tbody tr th:only-of-type {\n",
       "        vertical-align: middle;\n",
       "    }\n",
       "\n",
       "    .dataframe tbody tr th {\n",
       "        vertical-align: top;\n",
       "    }\n",
       "\n",
       "    .dataframe thead th {\n",
       "        text-align: right;\n",
       "    }\n",
       "</style>\n",
       "<table border=\"1\" class=\"dataframe\">\n",
       "  <thead>\n",
       "    <tr style=\"text-align: right;\">\n",
       "      <th></th>\n",
       "      <th>distribution_center</th>\n",
       "      <th>latitude</th>\n",
       "      <th>longitude</th>\n",
       "      <th>supply</th>\n",
       "    </tr>\n",
       "  </thead>\n",
       "  <tbody>\n",
       "    <tr>\n",
       "      <th>0</th>\n",
       "      <td>dca</td>\n",
       "      <td>-8.971053</td>\n",
       "      <td>-55.773196</td>\n",
       "      <td>1510</td>\n",
       "    </tr>\n",
       "    <tr>\n",
       "      <th>1</th>\n",
       "      <td>dcb</td>\n",
       "      <td>-20.257081</td>\n",
       "      <td>-50.834509</td>\n",
       "      <td>1847</td>\n",
       "    </tr>\n",
       "    <tr>\n",
       "      <th>2</th>\n",
       "      <td>dcc</td>\n",
       "      <td>-11.273721</td>\n",
       "      <td>-51.490627</td>\n",
       "      <td>1040</td>\n",
       "    </tr>\n",
       "    <tr>\n",
       "      <th>3</th>\n",
       "      <td>dcd</td>\n",
       "      <td>-10.854486</td>\n",
       "      <td>-46.383194</td>\n",
       "      <td>1947</td>\n",
       "    </tr>\n",
       "    <tr>\n",
       "      <th>4</th>\n",
       "      <td>dce</td>\n",
       "      <td>-11.802726</td>\n",
       "      <td>-50.969810</td>\n",
       "      <td>1263</td>\n",
       "    </tr>\n",
       "    <tr>\n",
       "      <th>5</th>\n",
       "      <td>dcf</td>\n",
       "      <td>-10.802853</td>\n",
       "      <td>-52.548780</td>\n",
       "      <td>1533</td>\n",
       "    </tr>\n",
       "    <tr>\n",
       "      <th>6</th>\n",
       "      <td>dcg</td>\n",
       "      <td>-8.289540</td>\n",
       "      <td>-45.265429</td>\n",
       "      <td>1539</td>\n",
       "    </tr>\n",
       "    <tr>\n",
       "      <th>7</th>\n",
       "      <td>dch</td>\n",
       "      <td>-7.077118</td>\n",
       "      <td>-56.739872</td>\n",
       "      <td>1420</td>\n",
       "    </tr>\n",
       "    <tr>\n",
       "      <th>8</th>\n",
       "      <td>dci</td>\n",
       "      <td>-5.911711</td>\n",
       "      <td>-56.545805</td>\n",
       "      <td>1352</td>\n",
       "    </tr>\n",
       "    <tr>\n",
       "      <th>9</th>\n",
       "      <td>dcj</td>\n",
       "      <td>-12.417353</td>\n",
       "      <td>-49.881595</td>\n",
       "      <td>1178</td>\n",
       "    </tr>\n",
       "  </tbody>\n",
       "</table>\n",
       "</div>"
      ],
      "text/plain": [
       "  distribution_center   latitude  longitude  supply\n",
       "0                 dca  -8.971053 -55.773196    1510\n",
       "1                 dcb -20.257081 -50.834509    1847\n",
       "2                 dcc -11.273721 -51.490627    1040\n",
       "3                 dcd -10.854486 -46.383194    1947\n",
       "4                 dce -11.802726 -50.969810    1263\n",
       "5                 dcf -10.802853 -52.548780    1533\n",
       "6                 dcg  -8.289540 -45.265429    1539\n",
       "7                 dch  -7.077118 -56.739872    1420\n",
       "8                 dci  -5.911711 -56.545805    1352\n",
       "9                 dcj -12.417353 -49.881595    1178"
      ]
     },
     "execution_count": 24,
     "metadata": {},
     "output_type": "execute_result"
    }
   ],
   "source": [
    "df"
   ]
  },
  {
   "cell_type": "code",
   "execution_count": 25,
   "id": "63184298",
   "metadata": {},
   "outputs": [
    {
     "data": {
      "text/html": [
       "<div>\n",
       "<style scoped>\n",
       "    .dataframe tbody tr th:only-of-type {\n",
       "        vertical-align: middle;\n",
       "    }\n",
       "\n",
       "    .dataframe tbody tr th {\n",
       "        vertical-align: top;\n",
       "    }\n",
       "\n",
       "    .dataframe thead th {\n",
       "        text-align: right;\n",
       "    }\n",
       "</style>\n",
       "<table border=\"1\" class=\"dataframe\">\n",
       "  <thead>\n",
       "    <tr style=\"text-align: right;\">\n",
       "      <th></th>\n",
       "      <th>store</th>\n",
       "      <th>latitude</th>\n",
       "      <th>longitude</th>\n",
       "      <th>demand</th>\n",
       "    </tr>\n",
       "  </thead>\n",
       "  <tbody>\n",
       "    <tr>\n",
       "      <th>0</th>\n",
       "      <td>storea</td>\n",
       "      <td>-8.535411</td>\n",
       "      <td>-44.257024</td>\n",
       "      <td>322</td>\n",
       "    </tr>\n",
       "    <tr>\n",
       "      <th>1</th>\n",
       "      <td>storeb</td>\n",
       "      <td>-8.753628</td>\n",
       "      <td>-44.679698</td>\n",
       "      <td>372</td>\n",
       "    </tr>\n",
       "    <tr>\n",
       "      <th>2</th>\n",
       "      <td>storec</td>\n",
       "      <td>-17.633474</td>\n",
       "      <td>-51.133024</td>\n",
       "      <td>397</td>\n",
       "    </tr>\n",
       "    <tr>\n",
       "      <th>3</th>\n",
       "      <td>stored</td>\n",
       "      <td>-11.036381</td>\n",
       "      <td>-52.101032</td>\n",
       "      <td>477</td>\n",
       "    </tr>\n",
       "    <tr>\n",
       "      <th>4</th>\n",
       "      <td>storee</td>\n",
       "      <td>-8.047284</td>\n",
       "      <td>-56.181452</td>\n",
       "      <td>359</td>\n",
       "    </tr>\n",
       "    <tr>\n",
       "      <th>5</th>\n",
       "      <td>storef</td>\n",
       "      <td>-8.774693</td>\n",
       "      <td>-48.025498</td>\n",
       "      <td>406</td>\n",
       "    </tr>\n",
       "    <tr>\n",
       "      <th>6</th>\n",
       "      <td>storeg</td>\n",
       "      <td>-11.651358</td>\n",
       "      <td>-53.884381</td>\n",
       "      <td>489</td>\n",
       "    </tr>\n",
       "    <tr>\n",
       "      <th>7</th>\n",
       "      <td>storeh</td>\n",
       "      <td>-19.770981</td>\n",
       "      <td>-52.381593</td>\n",
       "      <td>338</td>\n",
       "    </tr>\n",
       "    <tr>\n",
       "      <th>8</th>\n",
       "      <td>storei</td>\n",
       "      <td>-14.609925</td>\n",
       "      <td>-49.981304</td>\n",
       "      <td>440</td>\n",
       "    </tr>\n",
       "    <tr>\n",
       "      <th>9</th>\n",
       "      <td>storej</td>\n",
       "      <td>-15.711701</td>\n",
       "      <td>-51.558173</td>\n",
       "      <td>481</td>\n",
       "    </tr>\n",
       "    <tr>\n",
       "      <th>10</th>\n",
       "      <td>storek</td>\n",
       "      <td>-20.480804</td>\n",
       "      <td>-54.373041</td>\n",
       "      <td>350</td>\n",
       "    </tr>\n",
       "    <tr>\n",
       "      <th>11</th>\n",
       "      <td>storel</td>\n",
       "      <td>-8.902998</td>\n",
       "      <td>-47.831699</td>\n",
       "      <td>312</td>\n",
       "    </tr>\n",
       "    <tr>\n",
       "      <th>12</th>\n",
       "      <td>storem</td>\n",
       "      <td>-11.965599</td>\n",
       "      <td>-53.172161</td>\n",
       "      <td>438</td>\n",
       "    </tr>\n",
       "    <tr>\n",
       "      <th>13</th>\n",
       "      <td>storen</td>\n",
       "      <td>-20.943333</td>\n",
       "      <td>-50.751795</td>\n",
       "      <td>440</td>\n",
       "    </tr>\n",
       "    <tr>\n",
       "      <th>14</th>\n",
       "      <td>storeo</td>\n",
       "      <td>-11.248067</td>\n",
       "      <td>-53.047591</td>\n",
       "      <td>442</td>\n",
       "    </tr>\n",
       "    <tr>\n",
       "      <th>15</th>\n",
       "      <td>storep</td>\n",
       "      <td>-6.543212</td>\n",
       "      <td>-54.010732</td>\n",
       "      <td>318</td>\n",
       "    </tr>\n",
       "    <tr>\n",
       "      <th>16</th>\n",
       "      <td>storeq</td>\n",
       "      <td>-10.847264</td>\n",
       "      <td>-50.275915</td>\n",
       "      <td>313</td>\n",
       "    </tr>\n",
       "    <tr>\n",
       "      <th>17</th>\n",
       "      <td>storer</td>\n",
       "      <td>-13.756709</td>\n",
       "      <td>-51.658965</td>\n",
       "      <td>431</td>\n",
       "    </tr>\n",
       "    <tr>\n",
       "      <th>18</th>\n",
       "      <td>stores</td>\n",
       "      <td>-3.411721</td>\n",
       "      <td>-59.683099</td>\n",
       "      <td>488</td>\n",
       "    </tr>\n",
       "    <tr>\n",
       "      <th>19</th>\n",
       "      <td>storet</td>\n",
       "      <td>-5.436101</td>\n",
       "      <td>-53.981182</td>\n",
       "      <td>305</td>\n",
       "    </tr>\n",
       "  </tbody>\n",
       "</table>\n",
       "</div>"
      ],
      "text/plain": [
       "     store   latitude  longitude  demand\n",
       "0   storea  -8.535411 -44.257024     322\n",
       "1   storeb  -8.753628 -44.679698     372\n",
       "2   storec -17.633474 -51.133024     397\n",
       "3   stored -11.036381 -52.101032     477\n",
       "4   storee  -8.047284 -56.181452     359\n",
       "5   storef  -8.774693 -48.025498     406\n",
       "6   storeg -11.651358 -53.884381     489\n",
       "7   storeh -19.770981 -52.381593     338\n",
       "8   storei -14.609925 -49.981304     440\n",
       "9   storej -15.711701 -51.558173     481\n",
       "10  storek -20.480804 -54.373041     350\n",
       "11  storel  -8.902998 -47.831699     312\n",
       "12  storem -11.965599 -53.172161     438\n",
       "13  storen -20.943333 -50.751795     440\n",
       "14  storeo -11.248067 -53.047591     442\n",
       "15  storep  -6.543212 -54.010732     318\n",
       "16  storeq -10.847264 -50.275915     313\n",
       "17  storer -13.756709 -51.658965     431\n",
       "18  stores  -3.411721 -59.683099     488\n",
       "19  storet  -5.436101 -53.981182     305"
      ]
     },
     "execution_count": 25,
     "metadata": {},
     "output_type": "execute_result"
    }
   ],
   "source": [
    "df_stores"
   ]
  }
 ],
 "metadata": {
  "kernelspec": {
   "display_name": "slotting_env",
   "language": "python",
   "name": "python3"
  },
  "language_info": {
   "codemirror_mode": {
    "name": "ipython",
    "version": 3
   },
   "file_extension": ".py",
   "mimetype": "text/x-python",
   "name": "python",
   "nbconvert_exporter": "python",
   "pygments_lexer": "ipython3",
   "version": "3.10.18"
  }
 },
 "nbformat": 4,
 "nbformat_minor": 5
}
