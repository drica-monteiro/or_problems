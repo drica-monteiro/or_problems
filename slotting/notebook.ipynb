{
 "cells": [
  {
   "cell_type": "code",
   "execution_count": 0,
   "metadata": {
    "application/vnd.databricks.v1+cell": {
     "cellMetadata": {
      "byteLimit": 2048000,
      "rowLimit": 10000
     },
     "inputWidgets": {},
     "nuid": "50627787-bea6-46ad-8041-999b9e9a4889",
     "showTitle": false,
     "tableResultSettingsMap": {},
     "title": ""
    }
   },
   "outputs": [],
   "source": [
    "import numpy as np\n",
    "from pyspark.sql.types import StructType, StructField, StringType, IntegerType, FloatType, LongType\n",
    "import random"
   ]
  },
  {
   "cell_type": "code",
   "execution_count": 0,
   "metadata": {
    "application/vnd.databricks.v1+cell": {
     "cellMetadata": {
      "byteLimit": 2048000,
      "rowLimit": 10000
     },
     "inputWidgets": {},
     "nuid": "60eb4a77-db0a-4a78-a514-d47346db0578",
     "showTitle": false,
     "tableResultSettingsMap": {},
     "title": ""
    }
   },
   "outputs": [],
   "source": [
    "from pulp import PULP_CBC_CMD, HiGHS_CMD, LpVariable, LpBinary, LpInteger, LpProblem, LpMinimize, lpSum, value, HiGHS, LpStatus"
   ]
  },
  {
   "cell_type": "code",
   "execution_count": 0,
   "metadata": {
    "application/vnd.databricks.v1+cell": {
     "cellMetadata": {
      "byteLimit": 2048000,
      "rowLimit": 10000
     },
     "inputWidgets": {},
     "nuid": "ef71c331-ddb5-481a-92b6-4147d57db5eb",
     "showTitle": false,
     "tableResultSettingsMap": {},
     "title": ""
    }
   },
   "outputs": [],
   "source": [
    "import pyspark.sql.functions as f"
   ]
  },
  {
   "cell_type": "code",
   "execution_count": 0,
   "metadata": {
    "application/vnd.databricks.v1+cell": {
     "cellMetadata": {
      "byteLimit": 2048000,
      "rowLimit": 10000
     },
     "inputWidgets": {},
     "nuid": "2610009e-3e16-46c8-81da-075d9aa1bbf0",
     "showTitle": false,
     "tableResultSettingsMap": {},
     "title": ""
    }
   },
   "outputs": [],
   "source": [
    "values = [\n",
    "    100, 95, 80, 90, 20, 15, 60, 55, 10, 50,\n",
    "    33, 50, 61, 89, 81, 88, 100, 48, 25, 66,\n",
    "    33, 42, 68, 85, 46, 21, 67, 86, 13, 58,\n",
    "    34, 30, 42, 56, 31, 50, 99, 27, 57, 81\n",
    "]"
   ]
  },
  {
   "cell_type": "code",
   "execution_count": 0,
   "metadata": {
    "application/vnd.databricks.v1+cell": {
     "cellMetadata": {
      "byteLimit": 2048000,
      "rowLimit": 10000
     },
     "inputWidgets": {},
     "nuid": "bf8d6668-1662-444b-b736-5cf2f76d807b",
     "showTitle": false,
     "tableResultSettingsMap": {},
     "title": ""
    }
   },
   "outputs": [],
   "source": [
    "n = 40 #number of products\n",
    "a = 50\n",
    "b = 100\n",
    "#stock = [np.random.randint(a,b) for p in range(0, n)] #how many units are available, ranging between 50 and 100\n",
    "stock = values\n",
    "prods = [f\"p{i}\" for i in range(0,n)] ##create n products\n",
    "a = 0.2 \n",
    "b = 20\n",
    "weights = np.random.uniform(a, b, n)"
   ]
  },
  {
   "cell_type": "code",
   "execution_count": 0,
   "metadata": {
    "application/vnd.databricks.v1+cell": {
     "cellMetadata": {
      "byteLimit": 2048000,
      "rowLimit": 10000
     },
     "inputWidgets": {},
     "nuid": "578c652c-23ed-48e6-adc4-469669fe25a4",
     "showTitle": false,
     "tableResultSettingsMap": {},
     "title": ""
    }
   },
   "outputs": [],
   "source": [
    "data = [(p,g, float(round(w,2))) for p,g,w in zip(prods,stock, weights)]"
   ]
  },
  {
   "cell_type": "code",
   "execution_count": 0,
   "metadata": {
    "application/vnd.databricks.v1+cell": {
     "cellMetadata": {
      "byteLimit": 2048000,
      "rowLimit": 10000
     },
     "inputWidgets": {},
     "nuid": "c3ab2698-2b18-40e2-a4b9-2e336e78ae31",
     "showTitle": false,
     "tableResultSettingsMap": {},
     "title": ""
    }
   },
   "outputs": [],
   "source": [
    "schema = StructType([\n",
    "    StructField(\"Product_id\", StringType(), True),\n",
    "    StructField(\"Stock\", IntegerType(), True),\n",
    "    StructField(\"Weights\", FloatType(), True)\n",
    "])\n",
    "\n",
    "df_prods = spark.createDataFrame(data, schema=schema)"
   ]
  },
  {
   "cell_type": "code",
   "execution_count": 0,
   "metadata": {
    "application/vnd.databricks.v1+cell": {
     "cellMetadata": {
      "byteLimit": 2048000,
      "rowLimit": 10000
     },
     "inputWidgets": {},
     "nuid": "b86c4a83-6492-435b-bcd9-1ac166bb09a5",
     "showTitle": false,
     "tableResultSettingsMap": {},
     "title": ""
    }
   },
   "outputs": [
    {
     "output_type": "stream",
     "name": "stdout",
     "output_type": "stream",
     "text": [
      "+----------+-----+-------+\n|Product_id|Stock|Weights|\n+----------+-----+-------+\n|        p0|   55|   1.64|\n|        p1|   95|  18.76|\n|        p2|   60|  10.49|\n|        p3|   67|   5.34|\n|        p4|   64|   5.31|\n+----------+-----+-------+\nonly showing top 5 rows\n"
     ]
    }
   ],
   "source": [
    "df_prods.show(5)"
   ]
  },
  {
   "cell_type": "code",
   "execution_count": 0,
   "metadata": {
    "application/vnd.databricks.v1+cell": {
     "cellMetadata": {
      "byteLimit": 2048000,
      "rowLimit": 10000
     },
     "inputWidgets": {},
     "nuid": "25887fad-ea6b-4014-8f09-aed5a6d60278",
     "showTitle": false,
     "tableResultSettingsMap": {},
     "title": ""
    }
   },
   "outputs": [
    {
     "output_type": "execute_result",
     "data": {
      "text/plain": [
       "81"
      ]
     },
     "execution_count": 282,
     "metadata": {},
     "output_type": "execute_result"
    }
   ],
   "source": [
    "n = 81 ##number of slots\n",
    "slots = list(np.arange(n)) \n",
    "corridor1 = [1 for c in range(27)]\n",
    "corridor2 = [2 for c in range(27)]\n",
    "corridor3 = [3 for c in range(27)]\n",
    "#corridor4 = [4 for c in range(15)]\n",
    "corridors = corridor1 + corridor2 + corridor3 #+ corridor4   \n",
    "len(corridors)"
   ]
  },
  {
   "cell_type": "code",
   "execution_count": 0,
   "metadata": {
    "application/vnd.databricks.v1+cell": {
     "cellMetadata": {
      "byteLimit": 2048000,
      "rowLimit": 10000
     },
     "inputWidgets": {},
     "nuid": "64499083-e200-4045-b355-7fa1efa49f8e",
     "showTitle": false,
     "tableResultSettingsMap": {},
     "title": ""
    }
   },
   "outputs": [],
   "source": [
    "capactity = [200 for p in range(n)]"
   ]
  },
  {
   "cell_type": "code",
   "execution_count": 0,
   "metadata": {
    "application/vnd.databricks.v1+cell": {
     "cellMetadata": {
      "byteLimit": 2048000,
      "rowLimit": 10000
     },
     "inputWidgets": {},
     "nuid": "08b1bf82-f347-4ce5-925e-8e76d2db53e4",
     "showTitle": false,
     "tableResultSettingsMap": {},
     "title": ""
    }
   },
   "outputs": [
    {
     "output_type": "execute_result",
     "data": {
      "text/plain": [
       "81"
      ]
     },
     "execution_count": 284,
     "metadata": {},
     "output_type": "execute_result"
    }
   ],
   "source": [
    "nums = list(np.arange(1,32))\n",
    "skip = [10, 11, 21, 22]\n",
    "nums = [n for n in range(1, 32) if n not in skip]\n",
    "distances = [n for n in nums for _ in range(3)]\n",
    "len(distances)"
   ]
  },
  {
   "cell_type": "code",
   "execution_count": 0,
   "metadata": {
    "application/vnd.databricks.v1+cell": {
     "cellMetadata": {
      "byteLimit": 2048000,
      "rowLimit": 10000
     },
     "inputWidgets": {},
     "nuid": "d9a66059-b492-4587-9faf-f55c12724e49",
     "showTitle": false,
     "tableResultSettingsMap": {},
     "title": ""
    }
   },
   "outputs": [
    {
     "output_type": "execute_result",
     "data": {
      "text/plain": [
       "81"
      ]
     },
     "execution_count": 299,
     "metadata": {},
     "output_type": "execute_result"
    }
   ],
   "source": [
    "nums1 = list(np.arange(4,7))\n",
    "nums2 = list(np.arange(3,6))\n",
    "nums3 = list(np.arange(1,4))\n",
    "ergonomy = nums1*9 + nums2*9 + nums3*9"
   ]
  },
  {
   "cell_type": "code",
   "execution_count": 0,
   "metadata": {
    "application/vnd.databricks.v1+cell": {
     "cellMetadata": {
      "byteLimit": 2048000,
      "rowLimit": 10000
     },
     "inputWidgets": {},
     "nuid": "1fa9c21c-5eba-46d2-b681-9a268923c82c",
     "showTitle": false,
     "tableResultSettingsMap": {},
     "title": ""
    }
   },
   "outputs": [
    {
     "output_type": "execute_result",
     "data": {
      "text/plain": [
       "81"
      ]
     },
     "execution_count": 300,
     "metadata": {},
     "output_type": "execute_result"
    }
   ],
   "source": [
    "hei = list(np.arange(0,3))\n",
    "height = hei*27\n",
    "len(height)"
   ]
  },
  {
   "cell_type": "code",
   "execution_count": 0,
   "metadata": {
    "application/vnd.databricks.v1+cell": {
     "cellMetadata": {
      "byteLimit": 2048000,
      "rowLimit": 10000
     },
     "inputWidgets": {},
     "nuid": "d34dec08-0194-4e94-a0db-383d2e6e1454",
     "showTitle": false,
     "tableResultSettingsMap": {},
     "title": ""
    }
   },
   "outputs": [],
   "source": [
    "data2 = [(s, cor, cap, dist, erg, hei) for s,cor,cap, dist, erg, hei in zip(slots,corridors,capactity,distances,ergonomy,height)]"
   ]
  },
  {
   "cell_type": "code",
   "execution_count": 0,
   "metadata": {
    "application/vnd.databricks.v1+cell": {
     "cellMetadata": {
      "byteLimit": 2048000,
      "rowLimit": 10000
     },
     "inputWidgets": {},
     "nuid": "ae8bfb2e-16e4-4e87-a381-76607debbed6",
     "showTitle": false,
     "tableResultSettingsMap": {},
     "title": ""
    }
   },
   "outputs": [],
   "source": [
    "schema2 = StructType([\n",
    "    StructField(\"Slot\", IntegerType(), True),\n",
    "    StructField(\"Corridor\", IntegerType(), True),\n",
    "    StructField(\"Capacity\", IntegerType(), True),\n",
    "    StructField(\"Distance\", IntegerType(), True),\n",
    "    StructField(\"Ergonomy\", IntegerType(), True),\n",
    "    StructField(\"Height\", IntegerType(), True)])\n",
    "\n"
   ]
  },
  {
   "cell_type": "code",
   "execution_count": 0,
   "metadata": {
    "application/vnd.databricks.v1+cell": {
     "cellMetadata": {
      "byteLimit": 2048000,
      "rowLimit": 10000
     },
     "inputWidgets": {},
     "nuid": "d058afd1-b93f-47e4-aa70-15c5ca961b9b",
     "showTitle": false,
     "tableResultSettingsMap": {},
     "title": ""
    }
   },
   "outputs": [
    {
     "output_type": "stream",
     "name": "stdout",
     "output_type": "stream",
     "text": [
      "+----+--------+--------+--------+--------+------+\n|Slot|Corridor|Capacity|Distance|Ergonomy|Height|\n+----+--------+--------+--------+--------+------+\n|   0|       1|     200|       1|       4|     0|\n|   1|       1|     200|       1|       5|     1|\n|   2|       1|     200|       1|       6|     2|\n|   3|       1|     200|       2|       4|     0|\n|   4|       1|     200|       2|       5|     1|\n+----+--------+--------+--------+--------+------+\nonly showing top 5 rows\n"
     ]
    }
   ],
   "source": [
    "df_slots = spark.createDataFrame(data2, schema=schema2)\n",
    "df_slots.show(5)"
   ]
  },
  {
   "cell_type": "code",
   "execution_count": 0,
   "metadata": {
    "application/vnd.databricks.v1+cell": {
     "cellMetadata": {
      "byteLimit": 2048000,
      "rowLimit": 10000
     },
     "inputWidgets": {},
     "nuid": "41ad76db-59b0-408f-b83f-f268eb59b5a2",
     "showTitle": false,
     "tableResultSettingsMap": {},
     "title": ""
    }
   },
   "outputs": [
    {
     "output_type": "stream",
     "name": "stdout",
     "output_type": "stream",
     "text": [
      "+--------+-----+\n|Corridor|count|\n+--------+-----+\n|       1|   27|\n|       2|   27|\n|       3|   27|\n+--------+-----+\n\n"
     ]
    }
   ],
   "source": [
    "df_slots.groupBy('Corridor').count().show()"
   ]
  },
  {
   "cell_type": "code",
   "execution_count": 0,
   "metadata": {
    "application/vnd.databricks.v1+cell": {
     "cellMetadata": {
      "byteLimit": 2048000,
      "rowLimit": 10000
     },
     "inputWidgets": {},
     "nuid": "84f15bb0-629c-4046-b89d-197f9eec4d2f",
     "showTitle": false,
     "tableResultSettingsMap": {},
     "title": ""
    }
   },
   "outputs": [
    {
     "output_type": "stream",
     "name": "stdout",
     "output_type": "stream",
     "text": [
      "+---+---+\n| p1| p2|\n+---+---+\n|p33| p7|\n|p11|p30|\n|p25|p38|\n|p17| p1|\n| p9|p34|\n+---+---+\nonly showing top 5 rows\n"
     ]
    }
   ],
   "source": [
    "combo1 = [random.choice(prods) for p in range(8)]\n",
    "combo2 = [random.choice(prods) for p in range(8)]\n",
    "cols = ['p1', 'p2']\n",
    "data = [(c1,c2) for c1,c2 in zip(combo1, combo2)]\n",
    "df_combos = spark.createDataFrame(data, cols)\n",
    "df_combos.show(5)"
   ]
  },
  {
   "cell_type": "code",
   "execution_count": 0,
   "metadata": {
    "application/vnd.databricks.v1+cell": {
     "cellMetadata": {
      "byteLimit": 2048000,
      "rowLimit": 10000
     },
     "inputWidgets": {},
     "nuid": "da723a45-bb83-4b36-b7a2-0a0524bf78fe",
     "showTitle": false,
     "tableResultSettingsMap": {},
     "title": ""
    }
   },
   "outputs": [],
   "source": [
    "#####SOLVING THE PROBLEM"
   ]
  },
  {
   "cell_type": "code",
   "execution_count": 0,
   "metadata": {
    "application/vnd.databricks.v1+cell": {
     "cellMetadata": {
      "byteLimit": 2048000,
      "rowLimit": 10000
     },
     "inputWidgets": {},
     "nuid": "ee3bc789-c67e-4395-bc65-a99d208de2d3",
     "showTitle": false,
     "tableResultSettingsMap": {},
     "title": ""
    }
   },
   "outputs": [
    {
     "output_type": "stream",
     "name": "stdout",
     "output_type": "stream",
     "text": [
      "+----+--------+--------+--------+--------+------+\n|Slot|Corridor|Capacity|Distance|Ergonomy|Height|\n+----+--------+--------+--------+--------+------+\n|   0|       1|     200|       1|       4|     0|\n|   1|       1|     200|       1|       5|     1|\n|   2|       1|     200|       1|       6|     2|\n|   3|       1|     200|       2|       4|     0|\n|   4|       1|     200|       2|       5|     1|\n+----+--------+--------+--------+--------+------+\nonly showing top 5 rows\n"
     ]
    }
   ],
   "source": [
    "df_slots.show(5)"
   ]
  },
  {
   "cell_type": "code",
   "execution_count": 0,
   "metadata": {
    "application/vnd.databricks.v1+cell": {
     "cellMetadata": {
      "byteLimit": 2048000,
      "rowLimit": 10000
     },
     "inputWidgets": {},
     "nuid": "fd90444c-e4ec-429a-8dd9-900027be7c1e",
     "showTitle": false,
     "tableResultSettingsMap": {},
     "title": ""
    }
   },
   "outputs": [],
   "source": [
    "products = [r[\"Product_id\"] for r in df_prods.select(\"Product_id\").collect()]\n",
    "slots    = [r[\"Slot\"] for r in df_slots.select(\"Slot\").collect()]"
   ]
  },
  {
   "cell_type": "code",
   "execution_count": 0,
   "metadata": {
    "application/vnd.databricks.v1+cell": {
     "cellMetadata": {
      "byteLimit": 2048000,
      "rowLimit": 10000
     },
     "inputWidgets": {},
     "nuid": "b742bae6-049d-4d30-8dbd-3e71d9614e39",
     "showTitle": false,
     "tableResultSettingsMap": {},
     "title": ""
    }
   },
   "outputs": [
    {
     "output_type": "stream",
     "name": "stdout",
     "output_type": "stream",
     "text": [
      "+----+--------+--------+--------+--------+------+\n|Slot|Corridor|Capacity|Distance|Ergonomy|Height|\n+----+--------+--------+--------+--------+------+\n|   0|       1|     200|       1|       4|     0|\n|   1|       1|     200|       1|       5|     1|\n|   2|       1|     200|       1|       6|     2|\n|   3|       1|     200|       2|       4|     0|\n|   4|       1|     200|       2|       5|     1|\n+----+--------+--------+--------+--------+------+\nonly showing top 5 rows\n"
     ]
    }
   ],
   "source": [
    "df_slots.show(5)"
   ]
  },
  {
   "cell_type": "code",
   "execution_count": 0,
   "metadata": {
    "application/vnd.databricks.v1+cell": {
     "cellMetadata": {
      "byteLimit": 2048000,
      "rowLimit": 10000
     },
     "inputWidgets": {},
     "nuid": "0a97609f-9037-45ff-bb55-afb683bf2398",
     "showTitle": false,
     "tableResultSettingsMap": {},
     "title": ""
    }
   },
   "outputs": [],
   "source": [
    "units = {r['Product_id']: float(r['Stock']) for r in df_prods.select('Product_id', 'Stock').collect()}\n",
    "weight = {r['Product_id']: float(r['Weights']) for r in df_prods.select('Product_id', 'Weights').collect()}\n",
    "distance = {r['Slot']: float(r['Distance']) for r in df_slots.select('Slot', 'Distance').collect()}\n",
    "ergonomy = {r[\"Slot\"]: float(r[\"Ergonomy\"]) for r in df_slots.select('Slot', 'Ergonomy').collect()}\n",
    "height = {r[\"Slot\"]: float(r[\"Height\"]) for r in df_slots.select('Slot', 'Height').collect()}\n",
    "corridor = {r[\"Slot\"]: float(r[\"Corridor\"]) for r in df_slots.select('Slot', 'Corridor').collect()}\n",
    "capacity = {r['Slot']: float(r['Capacity']) for r in df_slots.select('Slot', 'Capacity').collect()}\n"
   ]
  },
  {
   "cell_type": "code",
   "execution_count": 0,
   "metadata": {
    "application/vnd.databricks.v1+cell": {
     "cellMetadata": {
      "byteLimit": 2048000,
      "rowLimit": 10000
     },
     "inputWidgets": {},
     "nuid": "eaba2f08-db4a-4dc7-9cdb-24976e1c2765",
     "showTitle": false,
     "tableResultSettingsMap": {},
     "title": ""
    }
   },
   "outputs": [
    {
     "output_type": "stream",
     "name": "stdout",
     "output_type": "stream",
     "text": [
      "+--------+-----+\n|Corridor|count|\n+--------+-----+\n|       1|   27|\n|       2|   27|\n|       3|   27|\n+--------+-----+\n\n"
     ]
    }
   ],
   "source": [
    "df_slots.groupBy('Corridor').count().show()"
   ]
  },
  {
   "cell_type": "code",
   "execution_count": 0,
   "metadata": {
    "application/vnd.databricks.v1+cell": {
     "cellMetadata": {
      "byteLimit": 2048000,
      "rowLimit": 10000
     },
     "inputWidgets": {},
     "nuid": "18cbf244-642e-4f2e-bf3d-540b1e4cbc6c",
     "showTitle": false,
     "tableResultSettingsMap": {},
     "title": ""
    }
   },
   "outputs": [],
   "source": [
    "# Calculate neighbors\n",
    "slots_by_corredor = (\n",
    "    df_slots\n",
    "    .groupBy(\"Corridor\")\n",
    "    .agg(f.collect_list(\"Slot\").alias(\"slots\"))\n",
    "    .collect()\n",
    ")\n",
    "\n",
    "neighbors = {}\n",
    "for row in slots_by_corredor:\n",
    "    corredor_val = row[\"Corridor\"]\n",
    "    slots_corredor = sorted(row[\"slots\"])\n",
    "    for i in range(0, len(slots_corredor), 9): # each slot has 9 neighbors\n",
    "        bloco = slots_corredor[i:i+9]\n",
    "        for s in bloco:\n",
    "            neighbors[s] = [v for v in bloco if v != s]"
   ]
  },
  {
   "cell_type": "code",
   "execution_count": 0,
   "metadata": {
    "application/vnd.databricks.v1+cell": {
     "cellMetadata": {
      "byteLimit": 2048000,
      "rowLimit": 10000
     },
     "inputWidgets": {},
     "nuid": "4a56e9db-2f2f-4148-a1f1-e3a1e0dc4292",
     "showTitle": false,
     "tableResultSettingsMap": {},
     "title": ""
    }
   },
   "outputs": [],
   "source": [
    "avaiable_corridors = sorted(set(corridor.values()))"
   ]
  },
  {
   "cell_type": "code",
   "execution_count": 0,
   "metadata": {
    "application/vnd.databricks.v1+cell": {
     "cellMetadata": {
      "byteLimit": 2048000,
      "rowLimit": 10000
     },
     "inputWidgets": {},
     "nuid": "bec2bec7-b27e-48f6-9423-94bb5d5b6e99",
     "showTitle": false,
     "tableResultSettingsMap": {},
     "title": ""
    }
   },
   "outputs": [],
   "source": [
    "# Model\n",
    "model = LpProblem(\"Slotting\", LpMinimize)\n",
    "\n",
    "## variables\n",
    "y = {(p, s): LpVariable(f\"y_{p}_{s}\", cat=LpBinary) for p in products for s in slots}\n",
    "x = {(p, s): LpVariable(f\"x_{p}_{s}\", lowBound=0, cat=LpInteger) for p in products for s in slots}\n",
    "z = {p: LpVariable(f\"z_{p}\", lowBound=0) for p in products}"
   ]
  },
  {
   "cell_type": "code",
   "execution_count": 0,
   "metadata": {
    "application/vnd.databricks.v1+cell": {
     "cellMetadata": {
      "byteLimit": 2048000,
      "rowLimit": 10000
     },
     "inputWidgets": {},
     "nuid": "71858bf4-44fe-458c-91b7-4a9ffc807691",
     "showTitle": false,
     "tableResultSettingsMap": {},
     "title": ""
    }
   },
   "outputs": [],
   "source": [
    "## regularizing parameters for distance and ergonomy\n",
    "theta = 10\n",
    "mu = 10\n",
    "\n",
    "model += (\n",
    "    lpSum([y[p, s] * (distance[s] * units[p]) for p in products for s in slots]) +\n",
    "    theta * lpSum([x[p, s] * weight[p] * ergonomy[s] for p in products for s in slots]) +\n",
    "    mu * lpSum([x[p, s] * weight[p] * height[s] for p in products for s in slots])\n",
    ")\n"
   ]
  },
  {
   "cell_type": "code",
   "execution_count": 0,
   "metadata": {
    "application/vnd.databricks.v1+cell": {
     "cellMetadata": {
      "byteLimit": 2048000,
      "rowLimit": 10000
     },
     "inputWidgets": {},
     "nuid": "77d179b3-d719-43c1-a7d7-87e9ed815a76",
     "showTitle": false,
     "tableResultSettingsMap": {},
     "title": ""
    }
   },
   "outputs": [
    {
     "output_type": "stream",
     "name": "stdout",
     "output_type": "stream",
     "text": [
      "We have 6480 variables!\n"
     ]
    }
   ],
   "source": [
    "print(f'We have {len(model.variables())} variables!') ## up to now, we have n_prods*n_slots*2 variables (the z variables is not considered yet)"
   ]
  },
  {
   "cell_type": "code",
   "execution_count": 0,
   "metadata": {
    "application/vnd.databricks.v1+cell": {
     "cellMetadata": {
      "byteLimit": 2048000,
      "rowLimit": 10000
     },
     "inputWidgets": {},
     "nuid": "4107e812-6ab5-4445-b963-fcdb86b63ea3",
     "showTitle": false,
     "tableResultSettingsMap": {},
     "title": ""
    }
   },
   "outputs": [],
   "source": [
    "# Constraints\n",
    "for p in products:\n",
    "    for s in slots:\n",
    "        model += weight[p] * x[p, s] <= capacity[s] * y[p, s]\n",
    "        model += y[p, s] <= x[p, s]\n",
    "\n",
    "for p in products:\n",
    "    model += lpSum([x[p, s] for s in slots]) == units[p]\n",
    "\n",
    "for s in slots:\n",
    "    model += lpSum([y[p, s] for p in products]) <= 1\n",
    "\n",
    "for p in products:\n",
    "    model += lpSum([y[p, s] for s in slots]) <= np.ceil(units[p] * weight[p] / capacity[slots[0]])\n",
    "\n",
    "for p in products:\n",
    "    for s1 in slots:\n",
    "        for s2 in slots:\n",
    "            if s1 >= s2:\n",
    "                continue\n",
    "            if s2 not in neighbors.get(s1, []):\n",
    "                model += y[p, s1] + y[p, s2] <= 1\n"
   ]
  },
  {
   "cell_type": "code",
   "execution_count": 0,
   "metadata": {
    "application/vnd.databricks.v1+cell": {
     "cellMetadata": {
      "byteLimit": 2048000,
      "rowLimit": 10000
     },
     "inputWidgets": {},
     "nuid": "90514c34-343b-4a12-96a0-103405d13a49",
     "showTitle": false,
     "tableResultSettingsMap": {},
     "title": ""
    }
   },
   "outputs": [],
   "source": [
    "M = 3 #any big number\n",
    "combo_produtos_df = df_combos.select(\"p1\").union(\n",
    "    df_combos.select(\"p2\").withColumnRenamed(\"p2\", \"p1\")\n",
    ").distinct()\n",
    "\n",
    "combo_produtos = [row[\"p1\"] for row in combo_produtos_df.collect()]\n",
    "\n",
    "for p in products:\n",
    "    if p in combo_produtos:\n",
    "        for s in slots:\n",
    "            cs = corridor[s]\n",
    "            model += z[p] - cs <= M * (1 - y[p, s])\n",
    "            model += z[p] - cs >= -M * (1 - y[p, s])\n",
    "\n",
    "for row in df_combos.select(\"p1\", \"p2\").collect():\n",
    "    p1 = row[\"p1\"]\n",
    "    p2 = row[\"p2\"]\n",
    "    model += z[p1] == z[p2]"
   ]
  },
  {
   "cell_type": "code",
   "execution_count": 0,
   "metadata": {
    "application/vnd.databricks.v1+cell": {
     "cellMetadata": {
      "byteLimit": 2048000,
      "rowLimit": 10000
     },
     "inputWidgets": {},
     "nuid": "a046ac81-a4da-4e9f-9816-766871ee8821",
     "showTitle": false,
     "tableResultSettingsMap": {},
     "title": ""
    }
   },
   "outputs": [
    {
     "output_type": "stream",
     "name": "stdout",
     "output_type": "stream",
     "text": [
      "Number of variables: 6494\nNumber of constraints: 125557\n"
     ]
    }
   ],
   "source": [
    "##Now, the numbers of variables and constraints are\n",
    "print(\"Number of variables:\", len(model.variables()))\n",
    "print(\"Number of constraints:\", len(model.constraints))"
   ]
  },
  {
   "cell_type": "code",
   "execution_count": 0,
   "metadata": {
    "application/vnd.databricks.v1+cell": {
     "cellMetadata": {
      "byteLimit": 2048000,
      "rowLimit": 10000
     },
     "inputWidgets": {},
     "nuid": "3bae75c7-d139-4397-acce-333f55a43ea0",
     "showTitle": false,
     "tableResultSettingsMap": {},
     "title": ""
    }
   },
   "outputs": [
    {
     "output_type": "stream",
     "name": "stdout",
     "output_type": "stream",
     "text": [
      "['PULP_CBC_CMD', 'HiGHS']\n"
     ]
    }
   ],
   "source": [
    "solver_list = pulp.listSolvers(onlyAvailable=True)\n",
    "print(solver_list)"
   ]
  },
  {
   "cell_type": "code",
   "execution_count": 0,
   "metadata": {
    "application/vnd.databricks.v1+cell": {
     "cellMetadata": {
      "byteLimit": 2048000,
      "rowLimit": 10000
     },
     "inputWidgets": {},
     "nuid": "c270cbb1-d1c1-4571-8993-2a61194cbab0",
     "showTitle": false,
     "tableResultSettingsMap": {},
     "title": ""
    }
   },
   "outputs": [
    {
     "output_type": "stream",
     "name": "stdout",
     "output_type": "stream",
     "text": [
      "Running HiGHS 1.11.0 (git hash: 364c83a): Copyright (c) 2025 HiGHS under MIT licence terms\nMIP  has 125557 rows; 6494 cols; 260512 nonzeros; 6480 integer variables (3240 binary)\nCoefficient ranges:\n  Matrix [1e+00, 2e+02]\n  Cost   [2e+01, 3e+03]\n  Bound  [1e+00, 1e+00]\n  RHS    [1e+00, 1e+02]\nPresolving model\n125549 rows, 6486 cols, 260496 nonzeros  0s\nPresolve: Infeasible\n\nSrc: B => Branching; C => Central rounding; F => Feasibility pump; J => Feasibility jump;\n     H => Heuristic; L => Sub-MIP; P => Empty MIP; R => Randomized rounding; Z => ZI Round;\n     I => Shifting; S => Solve LP; T => Evaluate node; U => Unbounded; X => User solution;\n     z => Trivial zero; l => Trivial lower; u => Trivial upper; p => Trivial point\n\n        Nodes      |    B&B Tree     |            Objective Bounds              |  Dynamic Constraints |       Work      \nSrc  Proc. InQueue |  Leaves   Expl. | BestBound       BestSol              Gap |   Cuts   InLp Confl. | LpIters     Time\n\n         0       0         0   0.00%   -inf            inf                  inf        0      0      0         0     3.0s\n\nSolving report\n  Status            Infeasible\n  Primal bound      inf\n  Dual bound        -inf\n  Gap               inf\n  P-D integral      0\n  Solution status   -\n  Timing            3.04 (total)\n                    0.00 (presolve)\n                    0.00 (solve)\n                    0.00 (postsolve)\n  Max sub-MIP depth 0\n  Nodes             0\n  Repair LPs        0 (0 feasible; 0 iterations)\n  LP iterations     0 (total)\n                    0 (strong br.)\n                    0 (separation)\n                    0 (heuristics)\n"
     ]
    },
    {
     "output_type": "execute_result",
     "data": {
      "text/plain": [
       "-1"
      ]
     },
     "execution_count": 334,
     "metadata": {},
     "output_type": "execute_result"
    }
   ],
   "source": [
    "# Solve\n",
    "model.solve(HiGHS(msg=True))"
   ]
  },
  {
   "cell_type": "code",
   "execution_count": 0,
   "metadata": {
    "application/vnd.databricks.v1+cell": {
     "cellMetadata": {
      "byteLimit": 2048000,
      "rowLimit": 10000
     },
     "inputWidgets": {},
     "nuid": "fe64ac00-7a5d-4836-96a5-29b115fc7971",
     "showTitle": false,
     "tableResultSettingsMap": {},
     "title": ""
    }
   },
   "outputs": [
    {
     "output_type": "stream",
     "name": "stdout",
     "output_type": "stream",
     "text": [
      "Status: Infeasible\n"
     ]
    }
   ],
   "source": [
    "print(\"Status:\", LpStatus[model.status])"
   ]
  }
 ],
 "metadata": {
  "application/vnd.databricks.v1+notebook": {
   "computePreferences": null,
   "dashboards": [],
   "environmentMetadata": {
    "base_environment": "",
    "environment_version": "3"
   },
   "inputWidgetPreferences": null,
   "language": "python",
   "notebookMetadata": {
    "pythonIndentUnit": 4
   },
   "notebookName": "Untitled Notebook 2025-08-25 07:30:16",
   "widgets": {}
  },
  "language_info": {
   "name": "python"
  }
 },
 "nbformat": 4,
 "nbformat_minor": 0
}